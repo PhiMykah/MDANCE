{
 "cells": [
  {
   "cell_type": "code",
   "execution_count": 5,
   "metadata": {},
   "outputs": [],
   "source": [
    "import matplotlib.pyplot as plt\n",
    "import numpy as np"
   ]
  },
  {
   "cell_type": "markdown",
   "metadata": {},
   "source": [
    "`scores_csvs` is the list of screening csv that were outputted from `screen_nani.py`. <br>\n",
    "The output of this notebook will also be the same directory as the input csvs."
   ]
  },
  {
   "cell_type": "code",
   "execution_count": 6,
   "metadata": {},
   "outputs": [],
   "source": [
    "scores_csvs = ['outputs/10comp_sim_summary.csv']"
   ]
  },
  {
   "cell_type": "markdown",
   "metadata": {},
   "source": [
    "##### Potential Errors\n",
    "- Please remember to remove the row with `None,None` in the screening csv if there is an error.\n",
    "- Another reason for error is if there are one or less optimum 2<sup>nd</sup> derivative number of clusters. <br>\n",
    "    - If there are one optimum 2nd derivative number of clusters, comment out line #$17, 23, 45$. <br>\n",
    "    - If there are no optimum 2nd derivative number of clusters, comment out the above lines and line #$16, 22, 44$. <br>"
   ]
  },
  {
   "cell_type": "code",
   "execution_count": 7,
   "metadata": {},
   "outputs": [],
   "source": [
    "def plot_scores(scores_csv):\n",
    "    n_clus, db = np.loadtxt(scores_csv, unpack=True, delimiter=',', usecols=(0, 3))\n",
    "    arr = db\n",
    "    x = n_clus[1:-1]\n",
    "    result = []\n",
    "\n",
    "    # Calculate the second derivative (before + after - 2*current)\n",
    "    for start_index, n_clusters in zip(range(1, len(arr) - 1), x):\n",
    "        temp = arr[start_index + 1] + arr[start_index - 1] - (2 * arr[start_index])\n",
    "        if arr[start_index] <= arr[start_index - 1] and arr[start_index] <= arr[start_index + 1]:\n",
    "            result.append((n_clusters, temp))\n",
    "    result = np.array(result)\n",
    "\n",
    "    sorted_indices = np.argsort(result[:, 1])[::-1]\n",
    "    sorted_result = result[sorted_indices]\n",
    "    min_x = sorted_result[0][0]\n",
    "    sec_min_x = sorted_result[1][0]\n",
    "\n",
    "    # Plot the second derivative and the optimal number of clusters\n",
    "    plt.scatter(sorted_result[:, 0], sorted_result[:, 1])\n",
    "    plt.axline((x[0], 0), slope=0, color='black', linestyle='-')\n",
    "    plt.axvline(x=min_x, color='#de8200', linestyle='--', label=f'Optimal 2nd deriv Number of Clusters: {int(min_x)}')\n",
    "    plt.axvline(x=sec_min_x, color='#6400ab', linestyle='--', label=f'Second Optimal 2nd deriv Number of Clusters: {int(sec_min_x)}')\n",
    "    base_name = scores_csv.split('\\\\')[-1].split('.csv')[0]\n",
    "    plt.title(base_name)\n",
    "    plt.legend()\n",
    "    plt.close()\n",
    "    \n",
    "    # Plot the Davies-Bouldin score and the optimal number of clusters\n",
    "    all_indices = np.argsort(db)\n",
    "    min_db_index = all_indices[0]\n",
    "    min_db = n_clus[min_db_index]\n",
    "    all_indices = np.delete(all_indices, 0)\n",
    "    second_min_index = all_indices[0]\n",
    "    second_min_db = n_clus[second_min_index]\n",
    "    fig, ax = plt.subplots()\n",
    "\n",
    "    ax.plot(n_clus, db, color='#005cde', label='Davies-Bouldin')\n",
    "    ax.set_xlabel('Number of Clusters')\n",
    "    ax.set_ylabel('Davies-Bouldin Score')\n",
    "\n",
    "    ax.axvline(x=min_db, color='#de005c', linestyle='--', label=f'Optimal Number of Clusters: {int(min_db)}')\n",
    "    ax.axvline(x=second_min_db, color='#00ab64', linestyle='--', label=f'Second Optimal Number of Clusters: {int(second_min_db)}')\n",
    "    ax.axvline(x=min_x, color='#de8200', linestyle='--', label=f'Optimal 2nd deriv Number of Clusters: {int(min_x)}')\n",
    "    ax.axvline(x=sec_min_x, color='#6400ab', linestyle='--', label=f'Second Optimal 2nd deriv Number of Clusters: {int(sec_min_x)}')\n",
    "    base_name = scores_csv.split('\\\\')[-1].split('.csv')[0]\n",
    "    plt.title(base_name)\n",
    "    ax.legend()\n",
    "    plt.savefig(f'{base_name}_db.png', dpi=500, bbox_inches='tight', pad_inches=0.1, transparent=True)\n",
    "    plt.close()\n",
    "    \n",
    "if __name__ == '__main__':\n",
    "    for scores_csv in scores_csvs:\n",
    "        plot_scores(scores_csv)"
   ]
  }
 ],
 "metadata": {
  "kernelspec": {
   "display_name": "Python 3",
   "language": "python",
   "name": "python3"
  },
  "language_info": {
   "codemirror_mode": {
    "name": "ipython",
    "version": 3
   },
   "file_extension": ".py",
   "mimetype": "text/x-python",
   "name": "python",
   "nbconvert_exporter": "python",
   "pygments_lexer": "ipython3",
   "version": "3.10.11"
  },
  "orig_nbformat": 4
 },
 "nbformat": 4,
 "nbformat_minor": 2
}
